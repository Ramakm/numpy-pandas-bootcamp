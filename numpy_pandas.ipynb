{
  "nbformat": 4,
  "nbformat_minor": 0,
  "metadata": {
    "colab": {
      "name": "numpy_pandas.ipynb",
      "provenance": [],
      "collapsed_sections": []
    },
    "kernelspec": {
      "name": "python3",
      "display_name": "Python 3"
    },
    "language_info": {
      "name": "python"
    }
  },
  "cells": [
    {
      "cell_type": "code",
      "source": [
        "l = [4,5,6,2,41,2,5]\n",
        "\n",
        "\n",
        "import numpy as np\n",
        "\n",
        "arrary = np.array(l)\n",
        "\n",
        "np.array(arrary*3)\n"
      ],
      "metadata": {
        "colab": {
          "base_uri": "https://localhost:8080/"
        },
        "id": "yb_gYxElqm2R",
        "outputId": "fa703224-5800-4bd4-d944-c9926a72ef1b"
      },
      "execution_count": null,
      "outputs": [
        {
          "output_type": "execute_result",
          "data": {
            "text/plain": [
              "array([ 12,  15,  18,   6, 123,   6,  15])"
            ]
          },
          "metadata": {},
          "execution_count": 6
        }
      ]
    },
    {
      "cell_type": "code",
      "execution_count": null,
      "metadata": {
        "id": "QWrXcdfJhIni"
      },
      "outputs": [],
      "source": [
        "# Numpy"
      ]
    },
    {
      "cell_type": "code",
      "source": [
        "heights = [54,24,65,23,569,78,42]\n",
        "\n",
        "heights *2"
      ],
      "metadata": {
        "colab": {
          "base_uri": "https://localhost:8080/"
        },
        "id": "oHcGKy-Kic3p",
        "outputId": "26b424d9-a4ca-4990-b61d-a68a4beeb296"
      },
      "execution_count": null,
      "outputs": [
        {
          "output_type": "execute_result",
          "data": {
            "text/plain": [
              "[54, 24, 65, 23, 569, 78, 42, 54, 24, 65, 23, 569, 78, 42]"
            ]
          },
          "metadata": {},
          "execution_count": 2
        }
      ]
    },
    {
      "cell_type": "code",
      "source": [
        "# pip install numpy\n",
        "\n",
        "import numpy as np\n",
        "\n",
        "np_heights = np.array([54,24,65,23,569,78,42])\n",
        "\n",
        "type(np_heights)"
      ],
      "metadata": {
        "colab": {
          "base_uri": "https://localhost:8080/"
        },
        "id": "p4tUUcGcidsP",
        "outputId": "8f57b22f-e0ef-492d-d65e-13853e84081c"
      },
      "execution_count": null,
      "outputs": [
        {
          "output_type": "execute_result",
          "data": {
            "text/plain": [
              "numpy.ndarray"
            ]
          },
          "metadata": {},
          "execution_count": 4
        }
      ]
    },
    {
      "cell_type": "code",
      "source": [
        "np_heights * 2.35\n",
        "np_heights"
      ],
      "metadata": {
        "colab": {
          "base_uri": "https://localhost:8080/"
        },
        "id": "j-_vvdybidvB",
        "outputId": "9f150ecd-7185-45a1-e0cd-4dd15dc1689b"
      },
      "execution_count": null,
      "outputs": [
        {
          "output_type": "execute_result",
          "data": {
            "text/plain": [
              "array([ 54,  24,  65,  23, 569,  78,  42])"
            ]
          },
          "metadata": {},
          "execution_count": 5
        }
      ]
    },
    {
      "cell_type": "code",
      "source": [
        "#Numpy with its own sets of methods and operations\n",
        "\n",
        "list1 = [1, 2, 3]\n",
        "\n",
        "list2 = [4,5,6]\n",
        "\n",
        "list1 + list2"
      ],
      "metadata": {
        "colab": {
          "base_uri": "https://localhost:8080/"
        },
        "id": "o6shui_DieCB",
        "outputId": "7263f199-7df4-42ae-df5d-597b21aa5dba"
      },
      "execution_count": null,
      "outputs": [
        {
          "output_type": "execute_result",
          "data": {
            "text/plain": [
              "[1, 2, 3, 4, 5, 6]"
            ]
          },
          "metadata": {},
          "execution_count": 6
        }
      ]
    },
    {
      "cell_type": "code",
      "source": [
        "np1 = np.array([1, 2, 3])\n",
        "\n",
        "np2 = np.array([7,8,9])\n",
        "\n",
        "np1+np2\n"
      ],
      "metadata": {
        "colab": {
          "base_uri": "https://localhost:8080/"
        },
        "id": "FWGPoeePieFk",
        "outputId": "667f6eea-0b3d-45ef-abae-44106fc58e70"
      },
      "execution_count": null,
      "outputs": [
        {
          "output_type": "execute_result",
          "data": {
            "text/plain": [
              "array([ 8, 10, 12])"
            ]
          },
          "metadata": {},
          "execution_count": 7
        }
      ]
    },
    {
      "cell_type": "code",
      "source": [
        "# 1D Numpy Array"
      ],
      "metadata": {
        "id": "d7SR6ZAmieIT"
      },
      "execution_count": null,
      "outputs": []
    },
    {
      "cell_type": "code",
      "source": [
        "heights = [54 , 65, 85 ,96,47,75,67,53,64,55,22,44,65]\n",
        "\n",
        "import numpy as np\n",
        "\n",
        "heights_in = np.array(heights)\n",
        "\n",
        "heights_in"
      ],
      "metadata": {
        "colab": {
          "base_uri": "https://localhost:8080/"
        },
        "id": "EeHOZJVGem1K",
        "outputId": "f4698914-8439-401e-e4fc-8f3e2a451b52"
      },
      "execution_count": null,
      "outputs": [
        {
          "output_type": "execute_result",
          "data": {
            "text/plain": [
              "array([54, 65, 85, 96, 47, 75, 67, 53, 64, 55, 22, 44, 65])"
            ]
          },
          "metadata": {},
          "execution_count": 1
        }
      ]
    },
    {
      "cell_type": "code",
      "source": [
        "type(heights_in)"
      ],
      "metadata": {
        "colab": {
          "base_uri": "https://localhost:8080/"
        },
        "id": "a41NK0xvem4K",
        "outputId": "e3504572-a843-45cc-c364-33f1e32747a1"
      },
      "execution_count": null,
      "outputs": [
        {
          "output_type": "execute_result",
          "data": {
            "text/plain": [
              "numpy.ndarray"
            ]
          },
          "metadata": {},
          "execution_count": 2
        }
      ]
    },
    {
      "cell_type": "code",
      "source": [
        "# Count the no of participants in that numpy array"
      ],
      "metadata": {
        "id": "sR2Sadurem6R"
      },
      "execution_count": null,
      "outputs": []
    },
    {
      "cell_type": "code",
      "source": [
        "len(heights_in)"
      ],
      "metadata": {
        "colab": {
          "base_uri": "https://localhost:8080/"
        },
        "id": "jE1kykIDem-w",
        "outputId": "ece5c874-716b-4dbd-b900-64a9e5043042"
      },
      "execution_count": null,
      "outputs": [
        {
          "output_type": "execute_result",
          "data": {
            "text/plain": [
              "13"
            ]
          },
          "metadata": {},
          "execution_count": 3
        }
      ]
    },
    {
      "cell_type": "code",
      "source": [
        "#OR\n",
        "\n",
        "heights_in.size"
      ],
      "metadata": {
        "colab": {
          "base_uri": "https://localhost:8080/"
        },
        "id": "13rTmU1AenBZ",
        "outputId": "82f47a11-f77d-4752-af37-24b6b7fe0ae3"
      },
      "execution_count": null,
      "outputs": [
        {
          "output_type": "execute_result",
          "data": {
            "text/plain": [
              "13"
            ]
          },
          "metadata": {},
          "execution_count": 5
        }
      ]
    },
    {
      "cell_type": "code",
      "source": [
        "#OR \n",
        "\n",
        "heights_in.shape"
      ],
      "metadata": {
        "colab": {
          "base_uri": "https://localhost:8080/"
        },
        "id": "WqaaO3nJenD7",
        "outputId": "814faeba-f450-483c-bd08-00a3a92cad35"
      },
      "execution_count": null,
      "outputs": [
        {
          "output_type": "execute_result",
          "data": {
            "text/plain": [
              "(13,)"
            ]
          },
          "metadata": {},
          "execution_count": 6
        }
      ]
    },
    {
      "cell_type": "code",
      "source": [
        "# Converting a list to Numpy array and converting Lb to Kg without using a Loop\n",
        "\n",
        "weights_lb = [182,165,142,175,186,164,152,153,154,162,156,145,155]\n",
        "weights_in_kg = np.array(weights_lb) * 0.4532\n",
        "\n",
        "weights_in_kg"
      ],
      "metadata": {
        "colab": {
          "base_uri": "https://localhost:8080/"
        },
        "id": "92JAzpZlenJt",
        "outputId": "a0bf7d26-7269-42be-d8fd-fed9c17d659c"
      },
      "execution_count": null,
      "outputs": [
        {
          "output_type": "execute_result",
          "data": {
            "text/plain": [
              "array([82.4824, 74.778 , 64.3544, 79.31  , 84.2952, 74.3248, 68.8864,\n",
              "       69.3396, 69.7928, 73.4184, 70.6992, 65.714 , 70.246 ])"
            ]
          },
          "metadata": {},
          "execution_count": 9
        }
      ]
    },
    {
      "cell_type": "code",
      "source": [
        "# Calculate BMI \n",
        "\n",
        "bmi = weights_in_kg /(heights_in**2)\n",
        "bmi"
      ],
      "metadata": {
        "colab": {
          "base_uri": "https://localhost:8080/"
        },
        "id": "z0rnh7kOenMr",
        "outputId": "1e8292ed-7477-4509-e0e5-9dbdaf20575f"
      },
      "execution_count": null,
      "outputs": [
        {
          "output_type": "execute_result",
          "data": {
            "text/plain": [
              "array([0.02828615, 0.01769893, 0.00890718, 0.00860569, 0.03815989,\n",
              "       0.0132133 , 0.0153456 , 0.0246848 , 0.01703926, 0.02427055,\n",
              "       0.14607273, 0.03394318, 0.01662627])"
            ]
          },
          "metadata": {},
          "execution_count": 11
        }
      ]
    },
    {
      "cell_type": "code",
      "source": [
        "# Sub-setting Numpy Arrays"
      ],
      "metadata": {
        "id": "tK2VvB8henPc"
      },
      "execution_count": null,
      "outputs": []
    },
    {
      "cell_type": "code",
      "source": [
        "bmi[0]"
      ],
      "metadata": {
        "colab": {
          "base_uri": "https://localhost:8080/"
        },
        "id": "dBaLimrrenSL",
        "outputId": "237b5872-2775-48ae-d129-ed67e3dee97d"
      },
      "execution_count": null,
      "outputs": [
        {
          "output_type": "execute_result",
          "data": {
            "text/plain": [
              "0.028286145404663923"
            ]
          },
          "metadata": {},
          "execution_count": 12
        }
      ]
    },
    {
      "cell_type": "code",
      "source": [
        "bmi[-1]"
      ],
      "metadata": {
        "colab": {
          "base_uri": "https://localhost:8080/"
        },
        "id": "e5FMnxKhi_jJ",
        "outputId": "d930fa74-df39-434f-c282-e69c9a6c887a"
      },
      "execution_count": null,
      "outputs": [
        {
          "output_type": "execute_result",
          "data": {
            "text/plain": [
              "0.01662627218934911"
            ]
          },
          "metadata": {},
          "execution_count": 13
        }
      ]
    },
    {
      "cell_type": "code",
      "source": [
        "bmi[:5]"
      ],
      "metadata": {
        "colab": {
          "base_uri": "https://localhost:8080/"
        },
        "id": "UzlCFDQvjBrm",
        "outputId": "c82e29d8-50c2-42ed-ef6a-5f5f04b46524"
      },
      "execution_count": null,
      "outputs": [
        {
          "output_type": "execute_result",
          "data": {
            "text/plain": [
              "array([0.02828615, 0.01769893, 0.00890718, 0.00860569, 0.03815989])"
            ]
          },
          "metadata": {},
          "execution_count": 15
        }
      ]
    },
    {
      "cell_type": "code",
      "source": [
        "bmi[:-5]"
      ],
      "metadata": {
        "colab": {
          "base_uri": "https://localhost:8080/"
        },
        "id": "XyueqnRSjFlC",
        "outputId": "0957e854-dbf9-4176-cc99-14a62abb8543"
      },
      "execution_count": null,
      "outputs": [
        {
          "output_type": "execute_result",
          "data": {
            "text/plain": [
              "array([0.02828615, 0.01769893, 0.00890718, 0.00860569, 0.03815989,\n",
              "       0.0132133 , 0.0153456 , 0.0246848 ])"
            ]
          },
          "metadata": {},
          "execution_count": 18
        }
      ]
    },
    {
      "cell_type": "code",
      "source": [
        "# Conditional sub-Setting Array\n"
      ],
      "metadata": {
        "id": "APyPyfX8jNU3"
      },
      "execution_count": null,
      "outputs": []
    },
    {
      "cell_type": "code",
      "source": [
        "bmi  <0.025"
      ],
      "metadata": {
        "colab": {
          "base_uri": "https://localhost:8080/"
        },
        "id": "5_MphOuajq7Q",
        "outputId": "419a136b-3528-49d3-8117-12f97204f499"
      },
      "execution_count": null,
      "outputs": [
        {
          "output_type": "execute_result",
          "data": {
            "text/plain": [
              "array([False,  True,  True,  True, False,  True,  True,  True,  True,\n",
              "        True, False, False,  True])"
            ]
          },
          "metadata": {},
          "execution_count": 23
        }
      ]
    },
    {
      "cell_type": "code",
      "source": [
        "bmi [bmi<0.025]"
      ],
      "metadata": {
        "colab": {
          "base_uri": "https://localhost:8080/"
        },
        "id": "cb1R2OMlj5-N",
        "outputId": "fba84292-3c36-4b80-a302-3a206c33742a"
      },
      "execution_count": null,
      "outputs": [
        {
          "output_type": "execute_result",
          "data": {
            "text/plain": [
              "array([0.01769893, 0.00890718, 0.00860569, 0.0132133 , 0.0153456 ,\n",
              "       0.0246848 , 0.01703926, 0.02427055, 0.01662627])"
            ]
          },
          "metadata": {},
          "execution_count": 24
        }
      ]
    },
    {
      "cell_type": "code",
      "source": [
        "underweight_players = bmi [bmi<0.025] #Storing the value in a Numpy Array"
      ],
      "metadata": {
        "id": "zZpARBMjkFUM"
      },
      "execution_count": null,
      "outputs": []
    },
    {
      "cell_type": "code",
      "source": [
        "underweight_players.size #No of players whose are underweight_players"
      ],
      "metadata": {
        "colab": {
          "base_uri": "https://localhost:8080/"
        },
        "id": "9F005PwDkT-E",
        "outputId": "8c1cc4ce-1d0a-47fe-b1e8-25292ca46954"
      },
      "execution_count": null,
      "outputs": [
        {
          "output_type": "execute_result",
          "data": {
            "text/plain": [
              "9"
            ]
          },
          "metadata": {},
          "execution_count": 27
        }
      ]
    },
    {
      "cell_type": "code",
      "source": [
        "# Numpy Functions:\n"
      ],
      "metadata": {
        "id": "hoEwII1fkXTj"
      },
      "execution_count": null,
      "outputs": []
    },
    {
      "cell_type": "code",
      "source": [
        "# Find largest BMI value\n",
        "\n",
        "max(bmi)"
      ],
      "metadata": {
        "colab": {
          "base_uri": "https://localhost:8080/"
        },
        "id": "2-deLrv4kzXq",
        "outputId": "b53d60ad-30f5-4bfb-d1df-772937b7919e"
      },
      "execution_count": null,
      "outputs": [
        {
          "output_type": "execute_result",
          "data": {
            "text/plain": [
              "0.14607272727272727"
            ]
          },
          "metadata": {},
          "execution_count": 29
        }
      ]
    },
    {
      "cell_type": "code",
      "source": [
        "bmi.max()"
      ],
      "metadata": {
        "colab": {
          "base_uri": "https://localhost:8080/"
        },
        "id": "uMeDKV1Sk44T",
        "outputId": "13e764eb-4c71-48ad-a6de-dd5f97ef3b19"
      },
      "execution_count": null,
      "outputs": [
        {
          "output_type": "execute_result",
          "data": {
            "text/plain": [
              "0.14607272727272727"
            ]
          },
          "metadata": {},
          "execution_count": 30
        }
      ]
    },
    {
      "cell_type": "code",
      "source": [
        "bmi.min()"
      ],
      "metadata": {
        "colab": {
          "base_uri": "https://localhost:8080/"
        },
        "id": "s71Nbu70k85H",
        "outputId": "ff03f487-6d16-437e-88aa-cf8289f3d2b1"
      },
      "execution_count": null,
      "outputs": [
        {
          "output_type": "execute_result",
          "data": {
            "text/plain": [
              "0.00860568576388889"
            ]
          },
          "metadata": {},
          "execution_count": 31
        }
      ]
    },
    {
      "cell_type": "code",
      "source": [
        "bmi.sum()"
      ],
      "metadata": {
        "colab": {
          "base_uri": "https://localhost:8080/"
        },
        "id": "q5A4xoJwk-bp",
        "outputId": "261834a7-2a50-412a-9b12-cae5a9d220aa"
      },
      "execution_count": null,
      "outputs": [
        {
          "output_type": "execute_result",
          "data": {
            "text/plain": [
              "0.39285352236666526"
            ]
          },
          "metadata": {},
          "execution_count": 32
        }
      ]
    },
    {
      "cell_type": "code",
      "source": [
        "# Extracting Elements from Array\n",
        "# Description\n",
        "# From a given array, extract all the elements which are greater than 'm' and less than 'n'. Note: 'm' and 'n' are integer values provided as input.\n",
        "\n",
        "# Input format:\n",
        "\n",
        "# A list of integers on line one\n",
        "\n",
        "# Integer 'm' on line two\n",
        "\n",
        "# Integer 'n' on line three\n",
        "\n",
        "# Output format:\n",
        "\n",
        "# 1-D array containing integers greater than 'm' and smaller than 'n'.\n",
        "\n",
        "# Sample input:\n",
        "\n",
        "# [ 1, 5, 9, 12, 15, 7, 12, 9 ] (array)\n",
        "\n",
        "# 6 (m)\n",
        "\n",
        "# 12 (n)\n",
        "\n",
        "# Sample output:\n",
        "\n",
        "# [ 9 7 9 ]\n",
        "\n",
        "# Sample input:\n",
        "\n",
        "# [ 1, 5, 9, 12, 15, 7, 12, 9 ]\n",
        "\n",
        "# 12\n",
        "\n",
        "# 6\n",
        "# Sample output:\n",
        "\n",
        "# [ ]"
      ],
      "metadata": {
        "id": "XQknbbFblBka"
      },
      "execution_count": null,
      "outputs": []
    },
    {
      "cell_type": "code",
      "source": [
        "input_list = list(map(int,input().split()))\n",
        "m=int(input())\n",
        "n=int(input())\n",
        "\n",
        "import numpy as np\n",
        "array_1 = np.array(input_list)\n",
        "final_array = array_1[(array_1>m) & (array_1<n)]\n",
        "\n",
        "print(final_array)"
      ],
      "metadata": {
        "colab": {
          "base_uri": "https://localhost:8080/"
        },
        "id": "isbeu77tnMVA",
        "outputId": "98247d36-6a77-4ac1-9a40-431916ef139a"
      },
      "execution_count": null,
      "outputs": [
        {
          "output_type": "stream",
          "name": "stdout",
          "text": [
            "5 4 2 6 12 85\n",
            "2\n",
            "12\n",
            "[5 4 6]\n"
          ]
        }
      ]
    },
    {
      "cell_type": "code",
      "source": [
        "# Multidimensional Arrays\n",
        "\n",
        "\n"
      ],
      "metadata": {
        "id": "Q33Ft4VCxHB7"
      },
      "execution_count": null,
      "outputs": []
    },
    {
      "cell_type": "code",
      "source": [
        "players = [(74,180), (74,215),(72,210), (72,210),(73,188), (69,176),(69,180)]\n",
        "\n",
        "len(players)"
      ],
      "metadata": {
        "colab": {
          "base_uri": "https://localhost:8080/"
        },
        "id": "rKm02NOA8Xjq",
        "outputId": "1551cb2d-5e71-433e-86a9-3ec4e604c281"
      },
      "execution_count": null,
      "outputs": [
        {
          "output_type": "execute_result",
          "data": {
            "text/plain": [
              "7"
            ]
          },
          "metadata": {},
          "execution_count": 5
        }
      ]
    },
    {
      "cell_type": "code",
      "source": [
        "import numpy as np\n",
        "\n",
        "np_players = np.array(players)\n",
        "np_players"
      ],
      "metadata": {
        "colab": {
          "base_uri": "https://localhost:8080/"
        },
        "id": "T30pR7kCcOL2",
        "outputId": "52d8e32b-cae6-4b6d-a497-60ebd2e3ad0d"
      },
      "execution_count": null,
      "outputs": [
        {
          "output_type": "execute_result",
          "data": {
            "text/plain": [
              "array([[ 74, 180],\n",
              "       [ 74, 215],\n",
              "       [ 72, 210],\n",
              "       [ 72, 210],\n",
              "       [ 73, 188],\n",
              "       [ 69, 176],\n",
              "       [ 69, 180]])"
            ]
          },
          "metadata": {},
          "execution_count": 6
        }
      ]
    },
    {
      "cell_type": "code",
      "source": [
        "np_players.size"
      ],
      "metadata": {
        "colab": {
          "base_uri": "https://localhost:8080/"
        },
        "id": "RiJWuC7jcUX6",
        "outputId": "4316a9cc-71fc-4c87-c4ad-7f891cd5c617"
      },
      "execution_count": null,
      "outputs": [
        {
          "output_type": "execute_result",
          "data": {
            "text/plain": [
              "14"
            ]
          },
          "metadata": {},
          "execution_count": 4
        }
      ]
    },
    {
      "cell_type": "code",
      "source": [
        "#Structure of the array\n",
        "\n",
        "np_players.shape"
      ],
      "metadata": {
        "colab": {
          "base_uri": "https://localhost:8080/"
        },
        "id": "bQM9Hm9KczxJ",
        "outputId": "ecd89d9a-6eed-4f06-8610-0f6945b48842"
      },
      "execution_count": null,
      "outputs": [
        {
          "output_type": "execute_result",
          "data": {
            "text/plain": [
              "(7, 2)"
            ]
          },
          "metadata": {},
          "execution_count": 5
        }
      ]
    },
    {
      "cell_type": "code",
      "source": [
        "# Dimenssion of the array\n",
        "\n",
        "np_players.ndim"
      ],
      "metadata": {
        "colab": {
          "base_uri": "https://localhost:8080/"
        },
        "id": "H-ZUl5ujc4Z7",
        "outputId": "a3e22624-5d73-4486-836b-e28ef769f975"
      },
      "execution_count": null,
      "outputs": [
        {
          "output_type": "execute_result",
          "data": {
            "text/plain": [
              "2"
            ]
          },
          "metadata": {},
          "execution_count": 6
        }
      ]
    },
    {
      "cell_type": "code",
      "source": [
        "#data type of the elements in the array\n",
        "\n",
        "np_players.dtype"
      ],
      "metadata": {
        "colab": {
          "base_uri": "https://localhost:8080/"
        },
        "id": "LAlElSJOdGI8",
        "outputId": "642f80cd-01f4-4127-d0c8-8dd84810251c"
      },
      "execution_count": null,
      "outputs": [
        {
          "output_type": "execute_result",
          "data": {
            "text/plain": [
              "dtype('int64')"
            ]
          },
          "metadata": {},
          "execution_count": 14
        }
      ]
    },
    {
      "cell_type": "code",
      "source": [
        "#Print the size of the single item of array\n",
        "np_players.itemsize"
      ],
      "metadata": {
        "colab": {
          "base_uri": "https://localhost:8080/"
        },
        "id": "bE4qt_81e4is",
        "outputId": "6406fa63-957f-475f-d0ae-9a5aa2f38263"
      },
      "execution_count": null,
      "outputs": [
        {
          "output_type": "execute_result",
          "data": {
            "text/plain": [
              "8"
            ]
          },
          "metadata": {},
          "execution_count": 15
        }
      ]
    },
    {
      "cell_type": "code",
      "source": [
        "# shape: It represents the shape of an array as the number of elements in each dimension.\n",
        "\n",
        "# ndim: It represents the number of dimensions of an array. For a 2D array, ndim = 2.\n"
      ],
      "metadata": {
        "id": "1Pe2w9lke4kV"
      },
      "execution_count": null,
      "outputs": []
    },
    {
      "cell_type": "code",
      "source": [
        "# conert heights to meter and weights to Kgs"
      ],
      "metadata": {
        "id": "wnwcmo3we4nl"
      },
      "execution_count": null,
      "outputs": []
    },
    {
      "cell_type": "code",
      "source": [
        "players_converted = np_players * [0.0254, 0.4532]\n",
        "\n",
        "players_converted"
      ],
      "metadata": {
        "colab": {
          "base_uri": "https://localhost:8080/"
        },
        "id": "H_I7rWEue4qJ",
        "outputId": "27a6847e-b5ac-48d9-aa0e-7a44a863298a"
      },
      "execution_count": null,
      "outputs": [
        {
          "output_type": "execute_result",
          "data": {
            "text/plain": [
              "array([[ 1.8796, 81.576 ],\n",
              "       [ 1.8796, 97.438 ],\n",
              "       [ 1.8288, 95.172 ],\n",
              "       [ 1.8288, 95.172 ],\n",
              "       [ 1.8542, 85.2016],\n",
              "       [ 1.7526, 79.7632],\n",
              "       [ 1.7526, 81.576 ]])"
            ]
          },
          "metadata": {},
          "execution_count": 7
        }
      ]
    },
    {
      "cell_type": "code",
      "source": [
        "# In NumPy, the dimension is called axis. In NumPy terminology, for 2-D arrays:\n",
        "\n",
        "# axis = 0 - refers to the rows\n",
        "# axis = 1 - refers to the columns"
      ],
      "metadata": {
        "id": "D2cxck_xe4tv"
      },
      "execution_count": null,
      "outputs": []
    },
    {
      "cell_type": "code",
      "source": [
        "# Fetch first row of the 2D array\n",
        "\n",
        "players_converted[0]"
      ],
      "metadata": {
        "id": "RKWrP4Cwe4vt",
        "colab": {
          "base_uri": "https://localhost:8080/"
        },
        "outputId": "8a4b6dd4-cfdd-4cc8-d7ee-1fb0287e121f"
      },
      "execution_count": null,
      "outputs": [
        {
          "output_type": "execute_result",
          "data": {
            "text/plain": [
              "array([ 1.8796, 81.576 ])"
            ]
          },
          "metadata": {},
          "execution_count": 8
        }
      ]
    },
    {
      "cell_type": "code",
      "source": [
        "# First row and 2nd element of the array\n",
        "\n",
        "players_converted[0][1]"
      ],
      "metadata": {
        "id": "MgtzMsJQe4yN",
        "colab": {
          "base_uri": "https://localhost:8080/"
        },
        "outputId": "3fd185bc-e000-4053-b3b6-90f2bfa2568a"
      },
      "execution_count": null,
      "outputs": [
        {
          "output_type": "execute_result",
          "data": {
            "text/plain": [
              "81.576"
            ]
          },
          "metadata": {},
          "execution_count": 9
        }
      ]
    },
    {
      "cell_type": "markdown",
      "source": [
        "##### If you want column of a numpy array\n",
        "\n",
        "##### players_converted[rows,columns]\n"
      ],
      "metadata": {
        "id": "JJOkxv0gnkJ5"
      }
    },
    {
      "cell_type": "code",
      "source": [
        "players_converted[:,0]  #Giving me all the  value of 1st column in numpy array"
      ],
      "metadata": {
        "colab": {
          "base_uri": "https://localhost:8080/"
        },
        "id": "yFl4sLT2najH",
        "outputId": "58370aec-a3cb-4c04-b6fb-5f99e386dd61"
      },
      "execution_count": null,
      "outputs": [
        {
          "output_type": "execute_result",
          "data": {
            "text/plain": [
              "array([1.8796, 1.8796, 1.8288, 1.8288, 1.8542, 1.7526, 1.7526])"
            ]
          },
          "metadata": {},
          "execution_count": 21
        }
      ]
    },
    {
      "cell_type": "markdown",
      "source": [
        "##### Fetch height of the(1st column) of 5th player from array\n",
        "\n",
        "\n",
        "\n"
      ],
      "metadata": {
        "id": "dC-J1PRdnuZr"
      }
    },
    {
      "cell_type": "code",
      "source": [
        "players_converted[6][0]"
      ],
      "metadata": {
        "id": "k2skmKvwe44Q",
        "colab": {
          "base_uri": "https://localhost:8080/"
        },
        "outputId": "d5edcd7f-0a57-41a2-a4b6-657bf8c07e85"
      },
      "execution_count": null,
      "outputs": [
        {
          "output_type": "execute_result",
          "data": {
            "text/plain": [
              "1.7526"
            ]
          },
          "metadata": {},
          "execution_count": 23
        }
      ]
    },
    {
      "cell_type": "markdown",
      "source": [
        "##### Which of the following would extract all the rows of the first 3 columns in a 2D array?\n",
        "\n",
        "array_name[ : , :3]\n",
        "\n",
        "array_name[:,:3] extracts all the rows of the first 3 columns. Note that even though the first 3 columns have the indices 0, 1, and 2, respectively, we need to mention array_name[:,:3]instead of array_name[:,:2] since the last column index mentioned is not included, i.e., array_name[:,:2] will give you just the first two columns, i.e., 0 and 1."
      ],
      "metadata": {
        "id": "iBuPE9ZanTsX"
      }
    },
    {
      "cell_type": "code",
      "source": [
        "##### The indexing and slicing of nD arrays are similar to those of 1D arrays. \n",
        "##### The only difference between the two is that you need to give the slicing\n",
        "##### and indexing instructions for each dimension separately. See example below:"
      ],
      "metadata": {
        "id": "H9W4ihaknR35"
      },
      "execution_count": null,
      "outputs": []
    },
    {
      "cell_type": "code",
      "source": [
        "players_converted[:, 0]\n"
      ],
      "metadata": {
        "colab": {
          "base_uri": "https://localhost:8080/"
        },
        "id": "y-msbNtUnR05",
        "outputId": "86e66cdd-eb69-444c-984e-efee89b4b495"
      },
      "execution_count": null,
      "outputs": [
        {
          "output_type": "execute_result",
          "data": {
            "text/plain": [
              "array([1.8796, 1.8796, 1.8288, 1.8288, 1.8542, 1.7526, 1.7526])"
            ]
          },
          "metadata": {},
          "execution_count": 24
        }
      ]
    },
    {
      "cell_type": "code",
      "source": [
        "# Conditional Sub-setting"
      ],
      "metadata": {
        "id": "6efYXbajnRyf"
      },
      "execution_count": null,
      "outputs": []
    },
    {
      "cell_type": "code",
      "source": [
        "# fetch the height of the players whose height is more than 1.8m\n",
        "\n",
        "tall_players = players_converted[players_converted[:,0]>1.8]\n",
        "\n",
        "tall_players"
      ],
      "metadata": {
        "colab": {
          "base_uri": "https://localhost:8080/"
        },
        "id": "KrENfesInRwS",
        "outputId": "b7b7bce0-b3eb-49f8-b78b-e17fe0431616"
      },
      "execution_count": null,
      "outputs": [
        {
          "output_type": "execute_result",
          "data": {
            "text/plain": [
              "array([[ 1.8796, 81.576 ],\n",
              "       [ 1.8796, 97.438 ],\n",
              "       [ 1.8288, 95.172 ],\n",
              "       [ 1.8288, 95.172 ],\n",
              "       [ 1.8542, 85.2016]])"
            ]
          },
          "metadata": {},
          "execution_count": 31
        }
      ]
    },
    {
      "cell_type": "code",
      "source": [
        "tall_players.shape"
      ],
      "metadata": {
        "colab": {
          "base_uri": "https://localhost:8080/"
        },
        "id": "nUHE7HcmnRt0",
        "outputId": "fa7f53a0-18f8-4243-a865-16edb6a3fa9c"
      },
      "execution_count": null,
      "outputs": [
        {
          "output_type": "execute_result",
          "data": {
            "text/plain": [
              "(5, 2)"
            ]
          },
          "metadata": {},
          "execution_count": 30
        }
      ]
    },
    {
      "cell_type": "code",
      "source": [
        "skills = np.array([\"Keeper\",\"Batsman\", \"Bowler\", \"Bowler\", \"Batsman\", \"Weicket-keeper\", \"Bowler\" ])\n",
        "\n",
        "skills"
      ],
      "metadata": {
        "colab": {
          "base_uri": "https://localhost:8080/"
        },
        "id": "0QTkz0ivnRsB",
        "outputId": "304b808f-02c6-4064-baca-d179b422c69d"
      },
      "execution_count": null,
      "outputs": [
        {
          "output_type": "execute_result",
          "data": {
            "text/plain": [
              "array(['Keeper', 'Batsman', 'Bowler', 'Bowler', 'Batsman',\n",
              "       'Weicket-keeper', 'Bowler'], dtype='<U14')"
            ]
          },
          "metadata": {},
          "execution_count": 33
        }
      ]
    },
    {
      "cell_type": "code",
      "source": [
        "#Fetch Heights of the batsman\n",
        "\n",
        "batsman = players_converted[skills==\"Batsman\"]\n",
        "\n",
        "batsman"
      ],
      "metadata": {
        "colab": {
          "base_uri": "https://localhost:8080/"
        },
        "id": "97rcBZkGnRqj",
        "outputId": "b4477aca-1f3d-42a0-9a1a-3fcdde7a7e79"
      },
      "execution_count": null,
      "outputs": [
        {
          "output_type": "execute_result",
          "data": {
            "text/plain": [
              "array([[ 1.8796, 97.438 ],\n",
              "       [ 1.8542, 85.2016]])"
            ]
          },
          "metadata": {},
          "execution_count": 34
        }
      ]
    },
    {
      "cell_type": "code",
      "source": [
        "batsman.shape"
      ],
      "metadata": {
        "colab": {
          "base_uri": "https://localhost:8080/"
        },
        "id": "kg3rrWA0nRnB",
        "outputId": "66101407-f5f9-4ecb-cdb6-9bae9b04d5e6"
      },
      "execution_count": null,
      "outputs": [
        {
          "output_type": "execute_result",
          "data": {
            "text/plain": [
              "(2, 2)"
            ]
          },
          "metadata": {},
          "execution_count": 35
        }
      ]
    },
    {
      "cell_type": "code",
      "source": [
        "batsman[:,0]  #Batsman with heights and skills is Batsman"
      ],
      "metadata": {
        "colab": {
          "base_uri": "https://localhost:8080/"
        },
        "id": "_Q6YaySInRkY",
        "outputId": "12b767e4-79f8-4636-ed91-1697177c60a2"
      },
      "execution_count": null,
      "outputs": [
        {
          "output_type": "execute_result",
          "data": {
            "text/plain": [
              "array([1.8796, 1.8542])"
            ]
          },
          "metadata": {},
          "execution_count": 38
        }
      ]
    },
    {
      "cell_type": "code",
      "source": [
        "# size of the array beforehand:\n",
        "\n",
        "# np.ones(): It is used to create an array of 1s.\n",
        "# np.zeros(): It is used to create an array of 0s.\n",
        "# np.random.randint(): It is used to create a random array of integers within a particular range.\n",
        "# np.random.random(): It is used to create an array of random numbers.\n",
        "# np.arange(): It is used to create an array with increments of fixed step size.\n",
        "# # np.linspace(): It is used to create an array of fixed length."
      ],
      "metadata": {
        "id": "UdCv02arnRg6"
      },
      "execution_count": null,
      "outputs": []
    },
    {
      "cell_type": "code",
      "source": [
        "import numpy as np\n",
        "\n"
      ],
      "metadata": {
        "id": "f2k4QazWqm8W"
      },
      "execution_count": null,
      "outputs": []
    },
    {
      "cell_type": "code",
      "source": [
        "# creating 1D array"
      ],
      "metadata": {
        "id": "W6Z5yQ0yqm6N"
      },
      "execution_count": null,
      "outputs": []
    },
    {
      "cell_type": "code",
      "source": [
        "arr = np.ones(10, dtype = int)\n",
        "\n",
        "arr"
      ],
      "metadata": {
        "colab": {
          "base_uri": "https://localhost:8080/"
        },
        "id": "9t-F2Whhqm39",
        "outputId": "3d4df068-60f5-4c8a-8e7f-3b7246a81e35"
      },
      "execution_count": null,
      "outputs": [
        {
          "output_type": "execute_result",
          "data": {
            "text/plain": [
              "array([1, 1, 1, 1, 1, 1, 1, 1, 1, 1])"
            ]
          },
          "metadata": {},
          "execution_count": 5
        }
      ]
    },
    {
      "cell_type": "code",
      "source": [
        "arr = np.ones((5,3), dtype = int)\n",
        "arr"
      ],
      "metadata": {
        "colab": {
          "base_uri": "https://localhost:8080/"
        },
        "id": "Y6FFlmlgqmyd",
        "outputId": "ed617bb0-1ff5-4896-d7fb-a4d36d314a35"
      },
      "execution_count": null,
      "outputs": [
        {
          "output_type": "execute_result",
          "data": {
            "text/plain": [
              "array([[1, 1, 1],\n",
              "       [1, 1, 1],\n",
              "       [1, 1, 1],\n",
              "       [1, 1, 1],\n",
              "       [1, 1, 1]])"
            ]
          },
          "metadata": {},
          "execution_count": 10
        }
      ]
    },
    {
      "cell_type": "code",
      "source": [
        "arr2 = np.zeros((5,3), dtype = int)\n",
        "arr2\n"
      ],
      "metadata": {
        "colab": {
          "base_uri": "https://localhost:8080/"
        },
        "id": "KEmmkB-3qmt2",
        "outputId": "f4b2be9f-f2e1-4383-a27e-af3146be31e1"
      },
      "execution_count": null,
      "outputs": [
        {
          "output_type": "execute_result",
          "data": {
            "text/plain": [
              "array([[0, 0, 0],\n",
              "       [0, 0, 0],\n",
              "       [0, 0, 0],\n",
              "       [0, 0, 0],\n",
              "       [0, 0, 0]])"
            ]
          },
          "metadata": {},
          "execution_count": 12
        }
      ]
    },
    {
      "cell_type": "code",
      "source": [
        "# range in numpy array is arange()"
      ],
      "metadata": {
        "id": "NZtNjpuJqmrZ"
      },
      "execution_count": null,
      "outputs": []
    },
    {
      "cell_type": "code",
      "source": [
        "np.arange(3)"
      ],
      "metadata": {
        "colab": {
          "base_uri": "https://localhost:8080/"
        },
        "id": "ZDDAKMMoqmps",
        "outputId": "45cdd9af-577e-4f40-fbc0-471a0941e73a"
      },
      "execution_count": null,
      "outputs": [
        {
          "output_type": "execute_result",
          "data": {
            "text/plain": [
              "array([0, 1, 2])"
            ]
          },
          "metadata": {},
          "execution_count": 14
        }
      ]
    },
    {
      "cell_type": "code",
      "source": [
        "np.arange(3.0)"
      ],
      "metadata": {
        "colab": {
          "base_uri": "https://localhost:8080/"
        },
        "id": "T5AQLT6aqmnd",
        "outputId": "b3f74c2e-cd9d-459b-eb45-6b36e7231ee4"
      },
      "execution_count": null,
      "outputs": [
        {
          "output_type": "execute_result",
          "data": {
            "text/plain": [
              "array([0., 1., 2.])"
            ]
          },
          "metadata": {},
          "execution_count": 15
        }
      ]
    },
    {
      "cell_type": "code",
      "source": [
        "# range of 3 to 35 with a step count 2\n"
      ],
      "metadata": {
        "id": "Qw6cJ6uHqmip"
      },
      "execution_count": null,
      "outputs": []
    },
    {
      "cell_type": "code",
      "source": [
        "np.arange(3,36, 2)"
      ],
      "metadata": {
        "colab": {
          "base_uri": "https://localhost:8080/"
        },
        "id": "EW2myqA7qmdX",
        "outputId": "0fcc2a58-7190-4edc-d982-611baf28bc7f"
      },
      "execution_count": null,
      "outputs": [
        {
          "output_type": "execute_result",
          "data": {
            "text/plain": [
              "array([ 3,  5,  7,  9, 11, 13, 15, 17, 19, 21, 23, 25, 27, 29, 31, 33, 35])"
            ]
          },
          "metadata": {},
          "execution_count": 18
        }
      ]
    },
    {
      "cell_type": "code",
      "source": [
        "# Arry of Random Numbers using random module:\n",
        "\n"
      ],
      "metadata": {
        "id": "t81ku8-cqmZ5"
      },
      "execution_count": null,
      "outputs": []
    },
    {
      "cell_type": "code",
      "source": [
        "np.random.randint(2,size = 10) #maximum integer value is 2 and total no of elements =10"
      ],
      "metadata": {
        "colab": {
          "base_uri": "https://localhost:8080/"
        },
        "id": "2JktguVNqmW9",
        "outputId": "4bd516f5-2037-41c7-a059-c43883ce31d5"
      },
      "execution_count": null,
      "outputs": [
        {
          "output_type": "execute_result",
          "data": {
            "text/plain": [
              "array([0, 1, 1, 0, 0, 1, 0, 1, 1, 1])"
            ]
          },
          "metadata": {},
          "execution_count": 19
        }
      ]
    },
    {
      "cell_type": "code",
      "source": [
        ""
      ],
      "metadata": {
        "id": "WAWENfegqmJP"
      },
      "execution_count": null,
      "outputs": []
    },
    {
      "cell_type": "code",
      "source": [
        "np.random.randint(5, size =10)"
      ],
      "metadata": {
        "colab": {
          "base_uri": "https://localhost:8080/"
        },
        "id": "GV4AwHn2qmGA",
        "outputId": "0cb8a012-7a16-42c1-dfb3-93ac1020a4a3"
      },
      "execution_count": null,
      "outputs": [
        {
          "output_type": "execute_result",
          "data": {
            "text/plain": [
              "array([4, 3, 2, 1, 3, 0, 1, 0, 2, 1])"
            ]
          },
          "metadata": {},
          "execution_count": 20
        }
      ]
    },
    {
      "cell_type": "code",
      "source": [
        "np.random.randint(5,9, size =10) # 5 is lower value and 9 is higher value but 5 included not 9"
      ],
      "metadata": {
        "colab": {
          "base_uri": "https://localhost:8080/"
        },
        "id": "TDK9D-xkqmCE",
        "outputId": "3cbd53b2-5ce1-43cb-e6bb-719fe3b525f1"
      },
      "execution_count": null,
      "outputs": [
        {
          "output_type": "execute_result",
          "data": {
            "text/plain": [
              "array([7, 8, 6, 8, 7, 8, 5, 5, 8, 5])"
            ]
          },
          "metadata": {},
          "execution_count": 22
        }
      ]
    },
    {
      "cell_type": "code",
      "source": [
        "# 2D array of random numbers"
      ],
      "metadata": {
        "id": "EO23UwN4ql9F"
      },
      "execution_count": null,
      "outputs": []
    },
    {
      "cell_type": "code",
      "source": [
        "np.random.random([3,4] )  #random.random used to create a 2D array  "
      ],
      "metadata": {
        "colab": {
          "base_uri": "https://localhost:8080/"
        },
        "id": "YcCGn53mql4v",
        "outputId": "a113efc1-17bb-4875-fa19-ec89c2ca7b01"
      },
      "execution_count": null,
      "outputs": [
        {
          "output_type": "execute_result",
          "data": {
            "text/plain": [
              "array([[0.97356465, 0.59703111, 0.16405859, 0.12186255],\n",
              "       [0.37283301, 0.17355727, 0.53864877, 0.03241622],\n",
              "       [0.14916137, 0.31398436, 0.3451915 , 0.62095899]])"
            ]
          },
          "metadata": {},
          "execution_count": 24
        }
      ]
    },
    {
      "cell_type": "markdown",
      "source": [
        "Sometimes you know length of array but not the step size. \n",
        "\n",
        "**Array of length 20 between 1 and 10 **"
      ],
      "metadata": {
        "id": "2cXP3cjioIg0"
      }
    },
    {
      "cell_type": "code",
      "source": [
        ""
      ],
      "metadata": {
        "id": "wyawewqAoIOR"
      },
      "execution_count": null,
      "outputs": []
    },
    {
      "cell_type": "code",
      "source": [
        "np.linspace(1,10,20)"
      ],
      "metadata": {
        "colab": {
          "base_uri": "https://localhost:8080/"
        },
        "id": "M1wB5-L9qlEx",
        "outputId": "876a2b56-3d63-4a1d-e331-aec392239aeb"
      },
      "execution_count": null,
      "outputs": [
        {
          "output_type": "execute_result",
          "data": {
            "text/plain": [
              "array([ 1.        ,  1.47368421,  1.94736842,  2.42105263,  2.89473684,\n",
              "        3.36842105,  3.84210526,  4.31578947,  4.78947368,  5.26315789,\n",
              "        5.73684211,  6.21052632,  6.68421053,  7.15789474,  7.63157895,\n",
              "        8.10526316,  8.57894737,  9.05263158,  9.52631579, 10.        ])"
            ]
          },
          "metadata": {},
          "execution_count": 25
        }
      ]
    },
    {
      "cell_type": "code",
      "source": [
        "n = int(input())\n",
        "\n",
        "import numpy as np\n",
        "\n",
        "border_array = np.ones((n, n), dtype = int)\n",
        "border_array[1:-1, 1:-1] = 0\n",
        "print(border_array)\n",
        "\n"
      ],
      "metadata": {
        "colab": {
          "base_uri": "https://localhost:8080/"
        },
        "id": "CMfOU3vgoEc0",
        "outputId": "6973a040-4dab-481c-9537-a537b4c03b1e"
      },
      "execution_count": null,
      "outputs": [
        {
          "output_type": "stream",
          "name": "stdout",
          "text": [
            "5\n",
            "[[1 1 1 1 1]\n",
            " [1 0 0 0 1]\n",
            " [1 0 0 0 1]\n",
            " [1 0 0 0 1]\n",
            " [1 1 1 1 1]]\n"
          ]
        }
      ]
    },
    {
      "cell_type": "markdown",
      "source": [
        "1. np.full(): It is used to create a constant array of any number ‘n’.\n",
        "\n",
        "2. np.tile(): It is used to create a new array by repeating an existing array for a particular number of times.\n",
        "3. np.eye(): It is used to create an identity matrix of any dimension\n",
        "\n",
        "\n",
        "\n"
      ],
      "metadata": {
        "id": "uCl0PIMTqGho"
      }
    },
    {
      "cell_type": "code",
      "source": [
        ""
      ],
      "metadata": {
        "id": "kJMkpCH-wF0Z"
      },
      "execution_count": null,
      "outputs": []
    },
    {
      "cell_type": "markdown",
      "source": [
        "**NUMPY**"
      ],
      "metadata": {
        "id": "DvnzIXOOv76N"
      }
    },
    {
      "cell_type": "markdown",
      "source": [
        "**LIVE LECTURE IN NUMPY**"
      ],
      "metadata": {
        "id": "Txcwz3ALv70z"
      }
    },
    {
      "cell_type": "code",
      "source": [
        "from calendar import*\n",
        "\n",
        "year = int(input(\"Enter a new Year:\"))\n",
        "\n",
        "print(calendar(year,3,1,8,4))\n",
        "\n",
        "# 2 = 2 characters for days (Mo,Tu, etc)\n",
        "# 1 = 1 line (row) for each week\n",
        "# 8 = 8 rows for each month\n",
        "# 4 = 4 columns for all months of the year.\n"
      ],
      "metadata": {
        "id": "GCC-4COpoEal",
        "colab": {
          "base_uri": "https://localhost:8080/"
        },
        "outputId": "1dea3154-9dd8-4c93-ee3b-d8d30296725d"
      },
      "execution_count": 6,
      "outputs": [
        {
          "output_type": "stream",
          "name": "stdout",
          "text": [
            "Enter a new Year:2022\n",
            "                                                                2022\n",
            "\n",
            "          January                            February                            March                              April\n",
            "Mon Tue Wed Thu Fri Sat Sun        Mon Tue Wed Thu Fri Sat Sun        Mon Tue Wed Thu Fri Sat Sun        Mon Tue Wed Thu Fri Sat Sun\n",
            "                      1   2              1   2   3   4   5   6              1   2   3   4   5   6                          1   2   3\n",
            "  3   4   5   6   7   8   9          7   8   9  10  11  12  13          7   8   9  10  11  12  13          4   5   6   7   8   9  10\n",
            " 10  11  12  13  14  15  16         14  15  16  17  18  19  20         14  15  16  17  18  19  20         11  12  13  14  15  16  17\n",
            " 17  18  19  20  21  22  23         21  22  23  24  25  26  27         21  22  23  24  25  26  27         18  19  20  21  22  23  24\n",
            " 24  25  26  27  28  29  30         28                                 28  29  30  31                     25  26  27  28  29  30\n",
            " 31\n",
            "\n",
            "            May                                June                               July                              August\n",
            "Mon Tue Wed Thu Fri Sat Sun        Mon Tue Wed Thu Fri Sat Sun        Mon Tue Wed Thu Fri Sat Sun        Mon Tue Wed Thu Fri Sat Sun\n",
            "                          1                  1   2   3   4   5                          1   2   3          1   2   3   4   5   6   7\n",
            "  2   3   4   5   6   7   8          6   7   8   9  10  11  12          4   5   6   7   8   9  10          8   9  10  11  12  13  14\n",
            "  9  10  11  12  13  14  15         13  14  15  16  17  18  19         11  12  13  14  15  16  17         15  16  17  18  19  20  21\n",
            " 16  17  18  19  20  21  22         20  21  22  23  24  25  26         18  19  20  21  22  23  24         22  23  24  25  26  27  28\n",
            " 23  24  25  26  27  28  29         27  28  29  30                     25  26  27  28  29  30  31         29  30  31\n",
            " 30  31\n",
            "\n",
            "         September                           October                            November                           December\n",
            "Mon Tue Wed Thu Fri Sat Sun        Mon Tue Wed Thu Fri Sat Sun        Mon Tue Wed Thu Fri Sat Sun        Mon Tue Wed Thu Fri Sat Sun\n",
            "              1   2   3   4                              1   2              1   2   3   4   5   6                      1   2   3   4\n",
            "  5   6   7   8   9  10  11          3   4   5   6   7   8   9          7   8   9  10  11  12  13          5   6   7   8   9  10  11\n",
            " 12  13  14  15  16  17  18         10  11  12  13  14  15  16         14  15  16  17  18  19  20         12  13  14  15  16  17  18\n",
            " 19  20  21  22  23  24  25         17  18  19  20  21  22  23         21  22  23  24  25  26  27         19  20  21  22  23  24  25\n",
            " 26  27  28  29  30                 24  25  26  27  28  29  30         28  29  30                         26  27  28  29  30  31\n",
            "                                    31\n",
            "\n"
          ]
        }
      ]
    },
    {
      "cell_type": "code",
      "source": [
        "#Python test\n",
        "\n",
        "import sys\n",
        "\n",
        "num =6\n",
        "\n",
        "print(sys.getsizeof(num), 'bytes')"
      ],
      "metadata": {
        "colab": {
          "base_uri": "https://localhost:8080/"
        },
        "id": "NdLmD0f7w_Ef",
        "outputId": "333e69f4-0122-4979-c59a-6a87087147c3"
      },
      "execution_count": 7,
      "outputs": [
        {
          "output_type": "stream",
          "name": "stdout",
          "text": [
            "28 bytes\n"
          ]
        }
      ]
    },
    {
      "cell_type": "code",
      "source": [
        "#Numpy test\n",
        "\n",
        "import numpy as np\n",
        "\n",
        "list1 = [4,56,6,4,879,85]\n",
        "myarr = np.array(list1) #it will return you 1 single element ND array\n",
        "\n",
        "print(myarr.itemsize,'bytes')"
      ],
      "metadata": {
        "id": "UWweHfEzoEXk",
        "colab": {
          "base_uri": "https://localhost:8080/"
        },
        "outputId": "43ef013b-d732-4cde-e5a4-7a6d2acdd5b2"
      },
      "execution_count": 8,
      "outputs": [
        {
          "output_type": "stream",
          "name": "stdout",
          "text": [
            "8 bytes\n"
          ]
        }
      ]
    },
    {
      "cell_type": "code",
      "source": [
        "import numpy as np\n",
        "\n",
        "import time\n",
        "\n",
        "size = 1000000\n",
        "\n",
        "A1 = range(size)\n",
        "A2 = range(size)\n",
        "\n",
        "l1 = np.arange(size)\n",
        "l2 = np.arange(size)\n",
        "\n",
        "start = time.time()\n",
        "\n",
        "result = [x+y for x,y in zip(A1,A2)]\n",
        "\n",
        "stop = time.time()\n",
        "print('Python took', (stop-start)*1000,'ms')\n",
        "\n",
        "start = time.time()\n",
        "result = l1 + l2\n",
        "stop = time.time()\n",
        "\n",
        "print('Numpy took', (stop-start)*1000,'ms')"
      ],
      "metadata": {
        "id": "TVUfLCbNoEVe",
        "colab": {
          "base_uri": "https://localhost:8080/"
        },
        "outputId": "86559889-614d-4ee5-8a11-f3f402fae848"
      },
      "execution_count": 9,
      "outputs": [
        {
          "output_type": "stream",
          "name": "stdout",
          "text": [
            "Python took 145.4486846923828 ms\n",
            "Numpy took 22.843599319458008 ms\n"
          ]
        }
      ]
    },
    {
      "cell_type": "code",
      "source": [
        "input_List = list(map(int,input().split()))\n",
        "\n",
        "input_List[0], input_List[-1] = input_List[-1], input_List[0]\n",
        "\n",
        "print(input_List)"
      ],
      "metadata": {
        "id": "zm3_latWoETP",
        "colab": {
          "base_uri": "https://localhost:8080/"
        },
        "outputId": "fcf67bbe-1caa-44d7-f319-0e5d75dbdeaa"
      },
      "execution_count": 17,
      "outputs": [
        {
          "name": "stdout",
          "output_type": "stream",
          "text": [
            "4 5 6 2 4 3\n"
          ]
        },
        {
          "output_type": "execute_result",
          "data": {
            "text/plain": [
              "[3, 5, 6, 2, 4, 4]"
            ]
          },
          "metadata": {},
          "execution_count": 17
        }
      ]
    },
    {
      "cell_type": "code",
      "source": [
        "import cv2\n",
        "import numpy\n",
        "\n",
        "mypic = cv2.imread('F:\\100DaysOfCode\\Header.jpg')\n",
        "type(mypic)\n",
        "numpy.array(mypic)"
      ],
      "metadata": {
        "id": "Q8zIU4-1oERH",
        "colab": {
          "base_uri": "https://localhost:8080/"
        },
        "outputId": "aeaf9638-d4af-41e4-cf0d-9575cb362ba7"
      },
      "execution_count": 15,
      "outputs": [
        {
          "output_type": "execute_result",
          "data": {
            "text/plain": [
              "array(None, dtype=object)"
            ]
          },
          "metadata": {},
          "execution_count": 15
        }
      ]
    },
    {
      "cell_type": "markdown",
      "source": [
        "**WORKING WITH NUMPY ND ARRAY**"
      ],
      "metadata": {
        "id": "Zto6n_eX7HbP"
      }
    },
    {
      "cell_type": "code",
      "source": [
        "import numpy as np\n",
        "\n",
        "b = [[1,2,3], [4,5,6]]\n",
        "\n",
        "b_arr = np.array(b)\n",
        "\n",
        "b_arr"
      ],
      "metadata": {
        "id": "tF2PSCL7oEM3",
        "colab": {
          "base_uri": "https://localhost:8080/"
        },
        "outputId": "3885a104-dc6b-489d-d8fe-8b8f906dac85"
      },
      "execution_count": 16,
      "outputs": [
        {
          "output_type": "execute_result",
          "data": {
            "text/plain": [
              "array([[1, 2, 3],\n",
              "       [4, 5, 6]])"
            ]
          },
          "metadata": {},
          "execution_count": 16
        }
      ]
    },
    {
      "cell_type": "code",
      "source": [
        "# N-D Array is a group of (N-1)-D array\n",
        "\n",
        "# 3D array is a group of 2D array"
      ],
      "metadata": {
        "id": "Q9p9HEfLoEJR"
      },
      "execution_count": 19,
      "outputs": []
    },
    {
      "cell_type": "code",
      "source": [
        "b_arr[1,2]"
      ],
      "metadata": {
        "id": "Ku1nBDeboEGw",
        "colab": {
          "base_uri": "https://localhost:8080/"
        },
        "outputId": "0952f037-d803-4833-dffa-2630c4e94a32"
      },
      "execution_count": 21,
      "outputs": [
        {
          "output_type": "execute_result",
          "data": {
            "text/plain": [
              "6"
            ]
          },
          "metadata": {},
          "execution_count": 21
        }
      ]
    },
    {
      "cell_type": "code",
      "source": [
        "b_arr[1][2]"
      ],
      "metadata": {
        "id": "Z_bn3g13oEEL",
        "colab": {
          "base_uri": "https://localhost:8080/"
        },
        "outputId": "319edcb1-3e51-41f4-a0b2-797fcf5d67c3"
      },
      "execution_count": 22,
      "outputs": [
        {
          "output_type": "execute_result",
          "data": {
            "text/plain": [
              "6"
            ]
          },
          "metadata": {},
          "execution_count": 22
        }
      ]
    },
    {
      "cell_type": "code",
      "source": [
        "b_arr[0,1]"
      ],
      "metadata": {
        "id": "GQg9kimNoD7X",
        "colab": {
          "base_uri": "https://localhost:8080/"
        },
        "outputId": "82d7b631-4319-4d2f-8483-2bbc862c685a"
      },
      "execution_count": 23,
      "outputs": [
        {
          "output_type": "execute_result",
          "data": {
            "text/plain": [
              "2"
            ]
          },
          "metadata": {},
          "execution_count": 23
        }
      ]
    },
    {
      "cell_type": "markdown",
      "source": [
        "**Python to make border 1's and Inside elements 0's**"
      ],
      "metadata": {
        "id": "SES4eDCv9Ngw"
      }
    },
    {
      "cell_type": "code",
      "source": [
        "\n",
        "import numpy as np\n",
        "\n",
        "n = int(input(\"Enter the size of n: \"))\n",
        "    \n",
        "border_array = np.ones((n,n), dtype = int)  #Making all elements in the ND array as 1's\n",
        "\n",
        "border_array[1:-1, 1:-1] = 0 #making inside elements other than border as 0's\n",
        "\n",
        "print(border_array)"
      ],
      "metadata": {
        "id": "V8KAOZThoD5F",
        "colab": {
          "base_uri": "https://localhost:8080/"
        },
        "outputId": "ae66ad20-9af9-4cf5-e4c0-355f2d72dc0a"
      },
      "execution_count": 25,
      "outputs": [
        {
          "output_type": "stream",
          "name": "stdout",
          "text": [
            "Enter the size of n: 4\n",
            "[[1 1 1 1]\n",
            " [1 0 0 1]\n",
            " [1 0 0 1]\n",
            " [1 1 1 1]]\n"
          ]
        }
      ]
    },
    {
      "cell_type": "code",
      "source": [
        "print(b_arr)\n",
        "b_arr [1,1:3] \n",
        "\n",
        "# 1 means targetting 1st row \n",
        "# 1:3 means targetting column indexes 1 and 2 (3 is not included)\n"
      ],
      "metadata": {
        "id": "wNF9lAAUoD2g",
        "colab": {
          "base_uri": "https://localhost:8080/"
        },
        "outputId": "3b3c3a96-ae53-4db7-d519-3714002a2a1c"
      },
      "execution_count": 27,
      "outputs": [
        {
          "output_type": "stream",
          "name": "stdout",
          "text": [
            "[[1 2 3]\n",
            " [4 5 6]]\n"
          ]
        },
        {
          "output_type": "execute_result",
          "data": {
            "text/plain": [
              "array([5, 6])"
            ]
          },
          "metadata": {},
          "execution_count": 27
        }
      ]
    },
    {
      "cell_type": "code",
      "source": [
        "b_arr[:,:2]\n",
        "\n",
        "# : Means all rows\n",
        "# :2 means column index from 0 to 1"
      ],
      "metadata": {
        "id": "hswDvovPoDz5",
        "colab": {
          "base_uri": "https://localhost:8080/"
        },
        "outputId": "70fa0647-60ad-427e-b2aa-020ad5dee98e"
      },
      "execution_count": 28,
      "outputs": [
        {
          "output_type": "execute_result",
          "data": {
            "text/plain": [
              "array([[1, 2],\n",
              "       [4, 5]])"
            ]
          },
          "metadata": {},
          "execution_count": 28
        }
      ]
    },
    {
      "cell_type": "code",
      "source": [
        "c = [[1,2,3,4,5],\n",
        "     [6,7,8,9,10],\n",
        "     [11,12,13,14,15]]\n",
        "\n",
        "c_arr = np.array(c)\n",
        "\n",
        "c_arr"
      ],
      "metadata": {
        "id": "oEgaILWUoDxO",
        "colab": {
          "base_uri": "https://localhost:8080/"
        },
        "outputId": "6115f6cd-d65a-411a-fd76-51066bc6004e"
      },
      "execution_count": 29,
      "outputs": [
        {
          "output_type": "execute_result",
          "data": {
            "text/plain": [
              "array([[ 1,  2,  3,  4,  5],\n",
              "       [ 6,  7,  8,  9, 10],\n",
              "       [11, 12, 13, 14, 15]])"
            ]
          },
          "metadata": {},
          "execution_count": 29
        }
      ]
    },
    {
      "cell_type": "code",
      "source": [
        "c_arr[:2, 1:4]"
      ],
      "metadata": {
        "id": "rtKEH32coDuG",
        "colab": {
          "base_uri": "https://localhost:8080/"
        },
        "outputId": "f03c5c49-7713-4cb6-9536-dfeaa740dd8a"
      },
      "execution_count": 31,
      "outputs": [
        {
          "output_type": "execute_result",
          "data": {
            "text/plain": [
              "array([[2, 3, 4],\n",
              "       [7, 8, 9]])"
            ]
          },
          "metadata": {},
          "execution_count": 31
        }
      ]
    },
    {
      "cell_type": "code",
      "source": [
        "c_arr[0:,1:4]"
      ],
      "metadata": {
        "id": "5atSWDlzoDrs",
        "colab": {
          "base_uri": "https://localhost:8080/"
        },
        "outputId": "9ae345ec-24d9-4a7b-bade-31545299e234"
      },
      "execution_count": 35,
      "outputs": [
        {
          "output_type": "execute_result",
          "data": {
            "text/plain": [
              "array([[ 2,  3,  4],\n",
              "       [ 7,  8,  9],\n",
              "       [12, 13, 14]])"
            ]
          },
          "metadata": {},
          "execution_count": 35
        }
      ]
    },
    {
      "cell_type": "code",
      "source": [
        "c_arr[:2,1:4]"
      ],
      "metadata": {
        "id": "Q5k9mknboDoy",
        "colab": {
          "base_uri": "https://localhost:8080/"
        },
        "outputId": "d52c9ab1-1e8e-470f-df65-d6b9f114c1d1"
      },
      "execution_count": 36,
      "outputs": [
        {
          "output_type": "execute_result",
          "data": {
            "text/plain": [
              "array([[2, 3, 4],\n",
              "       [7, 8, 9]])"
            ]
          },
          "metadata": {},
          "execution_count": 36
        }
      ]
    },
    {
      "cell_type": "markdown",
      "source": [
        "**PANDAS**"
      ],
      "metadata": {
        "id": "ap2ubZJoGoOk"
      }
    },
    {
      "cell_type": "code",
      "source": [
        "import pandas as pd\n",
        "\n",
        "df = pd.read_csv(\"file_path\")\n",
        "\n",
        "len(df)\n",
        "\n",
        "df.Gender.value_counts()\n",
        "\n",
        "df.Gender.value_counts(normalize=True)*100\n",
        "\n",
        "#Extract facts from the available data or we can say we will analysze the data  "
      ],
      "metadata": {
        "id": "-svEGdsUoDm_"
      },
      "execution_count": null,
      "outputs": []
    },
    {
      "cell_type": "markdown",
      "source": [
        "\n",
        "#####Pandas is built on top of Numpy!!! Its called as Panel Data:: \n",
        "\n",
        "###### Cv2 was suing numpy only\n",
        "\n",
        "###### Advantages of Nupy is already there in pandas\n",
        "\n"
      ],
      "metadata": {
        "id": "O-mBi9yzJ6Hw"
      }
    },
    {
      "cell_type": "markdown",
      "source": [
        "##### Numpy provides stastitical / Matrix Manipulation functionalities\n",
        "\n",
        "##### Pandas provides stastical / Matrix manipulation / Analytical functionalities\n",
        "\n",
        "##### Pandas has its own Data structures for storage / processing or Manipulation / Analysis of Data\n",
        "\n",
        "    - Series : Series is used to store/ process / analyse linear or 1D data\n",
        "    - DataFrame : Is used to store/ process/ analyse tabular data or 2D data eg. Table/sheet in MSExcel"
      ],
      "metadata": {
        "id": "8LoLerHLJtV6"
      }
    },
    {
      "cell_type": "code",
      "source": [
        "import pandas as pdS\n",
        "sampleList = [10,20,30,40,50,60]\n",
        "\n",
        "myseries = pd.Series(sampleList)\n",
        "\n",
        "myseries"
      ],
      "metadata": {
        "id": "DIL2qnasoDhF",
        "colab": {
          "base_uri": "https://localhost:8080/"
        },
        "outputId": "0e50a8ae-51b4-4387-95e9-8399f3d6bff2"
      },
      "execution_count": 40,
      "outputs": [
        {
          "output_type": "execute_result",
          "data": {
            "text/plain": [
              "0    10\n",
              "1    20\n",
              "2    30\n",
              "3    40\n",
              "4    50\n",
              "5    60\n",
              "dtype: int64"
            ]
          },
          "metadata": {},
          "execution_count": 40
        }
      ]
    },
    {
      "cell_type": "code",
      "source": [
        "#object is same as String in pandas\n"
      ],
      "metadata": {
        "id": "ypd5vPzloDfV"
      },
      "execution_count": 44,
      "outputs": []
    },
    {
      "cell_type": "code",
      "source": [
        "import pandas as pd\n",
        "\n",
        "nba = pd.read_csv(\"filename\")\n"
      ],
      "metadata": {
        "id": "kWpxp0vEoDdW"
      },
      "execution_count": 43,
      "outputs": []
    },
    {
      "cell_type": "code",
      "source": [
        "type(nba)"
      ],
      "metadata": {
        "id": "ZKuhN15FoDbi"
      },
      "execution_count": 43,
      "outputs": []
    },
    {
      "cell_type": "code",
      "source": [
        "nba"
      ],
      "metadata": {
        "id": "fWuuoOh3oDZr"
      },
      "execution_count": null,
      "outputs": []
    },
    {
      "cell_type": "code",
      "source": [
        "# What to do after dataframe has been created ??\n"
      ],
      "metadata": {
        "id": "UhOmkS4GoDX7"
      },
      "execution_count": null,
      "outputs": []
    },
    {
      "cell_type": "code",
      "source": [
        "#Data Inspections:\n",
        "#shape(rows,cols)"
      ],
      "metadata": {
        "id": "J0FpdBlBoDV0"
      },
      "execution_count": null,
      "outputs": []
    },
    {
      "cell_type": "code",
      "source": [
        "nba.shape()"
      ],
      "metadata": {
        "id": "abvN9BNToDRH"
      },
      "execution_count": null,
      "outputs": []
    },
    {
      "cell_type": "code",
      "source": [
        "#dtype\n",
        "\n",
        "nba.dtype"
      ],
      "metadata": {
        "id": "7NK3fLmFoDCE"
      },
      "execution_count": null,
      "outputs": []
    },
    {
      "cell_type": "code",
      "source": [
        "# info() regarding the present table\n",
        "\n",
        "nba.info()"
      ],
      "metadata": {
        "id": "Jy2ddtjtOXvt"
      },
      "execution_count": null,
      "outputs": []
    },
    {
      "cell_type": "code",
      "source": [
        "nba.isnull().sum()  #how many missing value in a particular cloumn"
      ],
      "metadata": {
        "id": "SeSYTZn6OXtZ"
      },
      "execution_count": null,
      "outputs": []
    },
    {
      "cell_type": "code",
      "source": [
        "nba.sort_values(by=\"weight\", ascending=False).head(3)"
      ],
      "metadata": {
        "id": "AsircffsOXqn"
      },
      "execution_count": null,
      "outputs": []
    },
    {
      "cell_type": "code",
      "source": [
        "nba.iloc[200:205]\n",
        "\n",
        "#iloc used to get the values according the row indexes."
      ],
      "metadata": {
        "id": "IM0305fmOXoF"
      },
      "execution_count": null,
      "outputs": []
    },
    {
      "cell_type": "code",
      "source": [
        "nba.iloc[200:205] [['Name', 'Position', 'College']]\n",
        "\n",
        "#Cols will be Name, Position and College\n",
        "\n",
        "#Rows indexes will be 200,201,202,203,204"
      ],
      "metadata": {
        "id": "aiFT2utVOXln"
      },
      "execution_count": null,
      "outputs": []
    },
    {
      "cell_type": "code",
      "source": [
        ""
      ],
      "metadata": {
        "id": "raEnwbx0OXjB"
      },
      "execution_count": null,
      "outputs": []
    },
    {
      "cell_type": "code",
      "source": [
        ""
      ],
      "metadata": {
        "id": "Y_vCcyTIOXeY"
      },
      "execution_count": null,
      "outputs": []
    },
    {
      "cell_type": "code",
      "source": [
        ""
      ],
      "metadata": {
        "id": "UNK_Z15aOXby"
      },
      "execution_count": null,
      "outputs": []
    },
    {
      "cell_type": "code",
      "source": [
        ""
      ],
      "metadata": {
        "id": "fBb2U7D3OXZd"
      },
      "execution_count": null,
      "outputs": []
    },
    {
      "cell_type": "code",
      "source": [
        ""
      ],
      "metadata": {
        "id": "kLRh6jpqOXUJ"
      },
      "execution_count": null,
      "outputs": []
    }
  ]
}